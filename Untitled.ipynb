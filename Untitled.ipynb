{
 "cells": [
  {
   "cell_type": "code",
   "execution_count": 3,
   "id": "df837cc4",
   "metadata": {},
   "outputs": [],
   "source": [
    "import cv2\n",
    "import numpy as a"
   ]
  },
  {
   "cell_type": "code",
   "execution_count": 4,
   "id": "954fa3ff",
   "metadata": {},
   "outputs": [],
   "source": [
    "img=cv2.imread('C:/Users/MAHAKATHIR/Downloads/maha.jpg')"
   ]
  },
  {
   "cell_type": "code",
   "execution_count": 6,
   "id": "2df9055b",
   "metadata": {},
   "outputs": [
    {
     "data": {
      "text/plain": [
       "True"
      ]
     },
     "execution_count": 6,
     "metadata": {},
     "output_type": "execute_result"
    }
   ],
   "source": [
    "grey=cv2.imread('C:/Users/MAHAKATHIR/Downloads/maha.jpg',0)\n",
    "cv2.imwrite(\"C:/Users/MAHAKATHIR/Downloads/nature.jpg\",grey)"
   ]
  },
  {
   "cell_type": "code",
   "execution_count": 7,
   "id": "ca7edce3",
   "metadata": {},
   "outputs": [],
   "source": [
    "cv2.imshow(\"grey\",grey)\n",
    "cv2.imshow(\"color\",img)\n",
    "cv2.waitKey(0)\n",
    "cv2.destroyAllWindows()"
   ]
  },
  {
   "cell_type": "code",
   "execution_count": 8,
   "id": "7dc9d159",
   "metadata": {},
   "outputs": [
    {
     "data": {
      "text/plain": [
       "array([[[199,  48,  11],\n",
       "        [199,  48,  11],\n",
       "        [199,  47,  12],\n",
       "        ...,\n",
       "        [193,  46,   6],\n",
       "        [193,  46,   6],\n",
       "        [193,  46,   6]],\n",
       "\n",
       "       [[196,  46,   9],\n",
       "        [196,  46,   9],\n",
       "        [196,  46,   9],\n",
       "        ...,\n",
       "        [192,  45,   5],\n",
       "        [192,  45,   5],\n",
       "        [192,  45,   5]],\n",
       "\n",
       "       [[192,  45,   5],\n",
       "        [192,  45,   5],\n",
       "        [192,  45,   5],\n",
       "        ...,\n",
       "        [193,  45,   3],\n",
       "        [191,  45,   3],\n",
       "        [191,  45,   3]],\n",
       "\n",
       "       ...,\n",
       "\n",
       "       [[ 85, 106, 108],\n",
       "        [ 54,  87,  90],\n",
       "        [ 43,  98, 103],\n",
       "        ...,\n",
       "        [  0,   5,   0],\n",
       "        [ 13,  27,  21],\n",
       "        [ 13,  27,  21]],\n",
       "\n",
       "       [[ 67,  93,  99],\n",
       "        [ 46,  80,  86],\n",
       "        [ 26,  77,  87],\n",
       "        ...,\n",
       "        [  2,  13,   5],\n",
       "        [  3,  10,   5],\n",
       "        [ 77,  84,  79]],\n",
       "\n",
       "       [[ 65,  93, 100],\n",
       "        [ 44,  80,  88],\n",
       "        [ 28,  76,  88],\n",
       "        ...,\n",
       "        [  4,  12,   5],\n",
       "        [  4,  10,   5],\n",
       "        [ 78,  84,  79]]], dtype=uint8)"
      ]
     },
     "execution_count": 8,
     "metadata": {},
     "output_type": "execute_result"
    }
   ],
   "source": [
    "img"
   ]
  },
  {
   "cell_type": "markdown",
   "id": "ba89ebdb",
   "metadata": {},
   "source": [
    "# shape"
   ]
  },
  {
   "cell_type": "code",
   "execution_count": 9,
   "id": "f0e6edbc",
   "metadata": {},
   "outputs": [
    {
     "name": "stdout",
     "output_type": "stream",
     "text": [
      "(266, 474, 3)\n"
     ]
    }
   ],
   "source": [
    "shp=img.shape\n",
    "print(shp)"
   ]
  },
  {
   "cell_type": "markdown",
   "id": "d864c2f4",
   "metadata": {},
   "source": [
    "# Size"
   ]
  },
  {
   "cell_type": "code",
   "execution_count": 7,
   "id": "363423d2",
   "metadata": {},
   "outputs": [
    {
     "name": "stdout",
     "output_type": "stream",
     "text": [
      "126084\n"
     ]
    }
   ],
   "source": [
    "s=grey.size\n",
    "print(s)"
   ]
  },
  {
   "cell_type": "markdown",
   "id": "39f91b39",
   "metadata": {},
   "source": [
    "# Value of pixel"
   ]
  },
  {
   "cell_type": "code",
   "execution_count": 10,
   "id": "77e28a56",
   "metadata": {},
   "outputs": [
    {
     "name": "stdout",
     "output_type": "stream",
     "text": [
      "96\n"
     ]
    }
   ],
   "source": [
    "p=grey[200,200]\n",
    "print(p)\n"
   ]
  },
  {
   "cell_type": "code",
   "execution_count": null,
   "id": "760e937f",
   "metadata": {},
   "outputs": [],
   "source": [
    "b,g,r=cv2.split(img)\n",
    "cv2.imshow(\"b\",b)\n",
    "cv2.waitKey(0)\n",
    "cv2.imshow(\"g\",g)\n",
    "cv2.waitKey(0)\n",
    "cv2.imshow(\"r\",r)\n",
    "cv2.waitKey(0)\n",
    "print(b,g,r)"
   ]
  },
  {
   "cell_type": "code",
   "execution_count": null,
   "id": "13452614",
   "metadata": {},
   "outputs": [],
   "source": []
  }
 ],
 "metadata": {
  "kernelspec": {
   "display_name": "Python 3 (ipykernel)",
   "language": "python",
   "name": "python3"
  },
  "language_info": {
   "codemirror_mode": {
    "name": "ipython",
    "version": 3
   },
   "file_extension": ".py",
   "mimetype": "text/x-python",
   "name": "python",
   "nbconvert_exporter": "python",
   "pygments_lexer": "ipython3",
   "version": "3.9.15"
  }
 },
 "nbformat": 4,
 "nbformat_minor": 5
}
